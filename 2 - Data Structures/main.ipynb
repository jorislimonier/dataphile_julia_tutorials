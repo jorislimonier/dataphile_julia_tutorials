{
 "cells": [
  {
   "cell_type": "markdown",
   "metadata": {},
   "source": [
    "# Data structures\n",
    "\n",
    "Data structures are way to, well, as the name says structure your data. Or, as [Wikipedia](https://en.wikipedia.org/wiki/Data_structure \"Wikipedia Data Structures\") puts it:\n",
    "\n",
    "> In computer science, a data structure is a data organization, management, and storage format that enables efficient access and modification.\n",
    "\n",
    "We will cover the following data structures in this tutorial:\n",
    "\n",
    "1. Arrays\n",
    "2. Tuples\n",
    "3. Dictionaries\n",
    "\n",
    "|                   | Ordered | Mutable |\n",
    "| :--------------:  |  :---:  | :-----: |\n",
    "| **Arrays**        |   Yes   |   Yes   |\n",
    "| **Tuples**        |   Yes   |   No    |\n",
    "| **Dictionaries**  |   No    |   Yes   |\n",
    "\n",
    "#### What do \"ordered\" and \"mutable\" mean anyway ?\n",
    "\n",
    "**Ordered:** You can tell Julia\n",
    "- take the third element in my array\n",
    "- in my dictionary, take the element which has a key of \"RocknRoll\"\n",
    "    \n",
    "**Mutable:** You can tell Julia\n",
    "- take this element of my array/dictionary and change it to 42\""
   ]
  },
  {
   "cell_type": "markdown",
   "metadata": {},
   "source": [
    "## Arrays\n",
    "**Recall:** Arrays are mutable and ordered...life is beautiful !\\\n",
    "**Syntax:** Use square brackets ` [  ] ` and separate elements by a comma `,`"
   ]
  },
  {
   "cell_type": "code",
   "execution_count": 8,
   "metadata": {},
   "outputs": [
    {
     "data": {
      "text/plain": [
       "3-element Array{String,1}:\n",
       " \"Paris\"\n",
       " \"Nice\"\n",
       " \"Monaco\""
      ]
     },
     "execution_count": 8,
     "metadata": {},
     "output_type": "execute_result"
    }
   ],
   "source": [
    "cities = [\"Paris\", \"Nice\", \"Monaco\"]"
   ]
  },
  {
   "cell_type": "code",
   "execution_count": 9,
   "metadata": {},
   "outputs": [
    {
     "data": {
      "text/plain": [
       "6-element Array{Int64,1}:\n",
       " 3\n",
       " 1\n",
       " 4\n",
       " 1\n",
       " 5\n",
       " 9"
      ]
     },
     "execution_count": 9,
     "metadata": {},
     "output_type": "execute_result"
    }
   ],
   "source": [
    "pi = [3, 1, 4, 1, 5, 9]"
   ]
  },
  {
   "cell_type": "code",
   "execution_count": 46,
   "metadata": {},
   "outputs": [
    {
     "name": "stdout",
     "output_type": "stream",
     "text": [
      "the type of 1.0 is Float64\n",
      "the type of \"hell of a mess\" is String\n",
      "the type of 4 is Int64\n",
      "the type of 'u' is Char\n"
     ]
    },
    {
     "data": {
      "text/plain": [
       "4-element Array{Any,1}:\n",
       " 1.0\n",
       "  \"hell of a mess\"\n",
       " 4\n",
       "  'u': ASCII/Unicode U+0075 (category Ll: Letter, lowercase)"
      ]
     },
     "execution_count": 46,
     "metadata": {},
     "output_type": "execute_result"
    }
   ],
   "source": [
    "println(\"the type of 1.0 is \", typeof(1.0))\n",
    "println(\"the type of \\\"hell of a mess\\\" is \", typeof(\"hell of a mess\"))\n",
    "println(\"the type of 4 is \", typeof(4))\n",
    "println(\"the type of \\'u\\' is \", typeof('u'))\n",
    "\n",
    "user_input_is = [1.0, \"hell of a mess\", 4, 'u']"
   ]
  },
  {
   "cell_type": "code",
   "execution_count": null,
   "metadata": {},
   "outputs": [],
   "source": []
  },
  {
   "cell_type": "markdown",
   "metadata": {},
   "source": [
    "## Tuples"
   ]
  },
  {
   "cell_type": "code",
   "execution_count": 47,
   "metadata": {},
   "outputs": [
    {
     "data": {
      "text/plain": [
       "(1, 2, 3)"
      ]
     },
     "execution_count": 47,
     "metadata": {},
     "output_type": "execute_result"
    }
   ],
   "source": [
    "my_tup = (1, 2, 3)"
   ]
  }
 ],
 "metadata": {
  "kernelspec": {
   "display_name": "Julia 1.5.3",
   "language": "julia",
   "name": "julia-1.5"
  },
  "language_info": {
   "file_extension": ".jl",
   "mimetype": "application/julia",
   "name": "julia",
   "version": "1.5.3"
  }
 },
 "nbformat": 4,
 "nbformat_minor": 4
}
