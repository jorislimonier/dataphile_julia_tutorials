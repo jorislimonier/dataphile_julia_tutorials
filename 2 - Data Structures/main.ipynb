{
 "cells": [
  {
   "cell_type": "markdown",
   "metadata": {},
   "source": [
    "# Data structures\n",
    "\n",
    "Data structures are way to, well, as the name says structure your data. Or, as [Wikipedia](https://en.wikipedia.org/wiki/Data_structure \"Wikipedia Data Structures\") puts it:\n",
    "\n",
    "> In computer science, a data structure is a data organization, management, and storage format that enables efficient access and modification.\n",
    "\n",
    "We will cover the following data structures in this tutorial:\n",
    "\n",
    "1. Tuples\n",
    "2. Dictionaries\n",
    "3. Arrays\n",
    "\n",
    "|                   | Ordered | Mutable |\n",
    "| :--------------:  |  :---:  | :-----: |\n",
    "| **Tuples**        |   Yes   |   No    |\n",
    "| **Dictionaries**  |   No    |   Yes   |\n",
    "| **Arrays**        |   Yes   |   Yes   |\n",
    "\n",
    "#### What do \"ordered\" and \"mutable\" mean anyway ?\n",
    "\n",
    "**Ordered:** You can tell Julia « take the third element in my array / tuple ».\\\n",
    "**Mutable:** You can tell Julia « change this element of my array/dictionary to 42 »."
   ]
  },
  {
   "cell_type": "markdown",
   "metadata": {},
   "source": [
    "## Tuples"
   ]
  },
  {
   "cell_type": "code",
   "execution_count": 38,
   "metadata": {},
   "outputs": [
    {
     "data": {
      "text/plain": [
       "(\"ABC\", \"easy as one two three\")"
      ]
     },
     "execution_count": 38,
     "metadata": {},
     "output_type": "execute_result"
    }
   ],
   "source": [
    "my_tup = (\"ABC\", \"easy as one two three\")"
   ]
  },
  {
   "cell_type": "code",
   "execution_count": 39,
   "metadata": {},
   "outputs": [
    {
     "ename": "LoadError",
     "evalue": "MethodError: no method matching setindex!(::Tuple{String, String}, ::String, ::Int64)",
     "output_type": "error",
     "traceback": [
      "MethodError: no method matching setindex!(::Tuple{String, String}, ::String, ::Int64)",
      "",
      "Stacktrace:",
      " [1] top-level scope",
      "   @ In[39]:1",
      " [2] eval",
      "   @ ./boot.jl:360 [inlined]",
      " [3] include_string(mapexpr::typeof(REPL.softscope), mod::Module, code::String, filename::String)",
      "   @ Base ./loading.jl:1094"
     ]
    }
   ],
   "source": [
    "my_tup[1] = \"DEF\" # doesn't work: tuples are immutable"
   ]
  },
  {
   "cell_type": "markdown",
   "metadata": {},
   "source": [
    "## Dictionaries"
   ]
  },
  {
   "cell_type": "code",
   "execution_count": 33,
   "metadata": {},
   "outputs": [
    {
     "data": {
      "text/plain": [
       "Dict{String, Float64} with 3 entries:\n",
       "  \"oranges\" => 3.5\n",
       "  \"bananas\" => 4.0\n",
       "  \"apples\"  => 1.5"
      ]
     },
     "execution_count": 33,
     "metadata": {},
     "output_type": "execute_result"
    }
   ],
   "source": [
    "prices = Dict(\"oranges\" => 3.5, \"apples\" => 1.5, \"bananas\" => 4.0)"
   ]
  },
  {
   "cell_type": "code",
   "execution_count": 35,
   "metadata": {},
   "outputs": [
    {
     "name": "stdout",
     "output_type": "stream",
     "text": [
      "oranges cost 3.5 €\n",
      "bananas cost 4.0 €\n",
      "apples cost 1.5 €\n"
     ]
    }
   ],
   "source": [
    "for k in keys(prices)\n",
    "    println(\"$k cost $(prices[k]) €\")\n",
    "end"
   ]
  },
  {
   "cell_type": "code",
   "execution_count": 37,
   "metadata": {},
   "outputs": [
    {
     "name": "stdout",
     "output_type": "stream",
     "text": [
      "One of the items costs oranges\n",
      "One of the items costs bananas\n",
      "One of the items costs apples\n"
     ]
    }
   ],
   "source": [
    "for v in keys(prices)\n",
    "    println(\"One of the items costs $v\")\n",
    "end"
   ]
  },
  {
   "cell_type": "markdown",
   "metadata": {},
   "source": [
    "## Arrays\n",
    "**Recall:** Arrays are mutable and ordered...life is beautiful !\\\n",
    "**Syntax:** Use square brackets ` [  ] ` and separate elements by a comma `,`"
   ]
  },
  {
   "cell_type": "code",
   "execution_count": null,
   "metadata": {},
   "outputs": [],
   "source": [
    "cities = [\"Paris\", \"Nice\", \"Monaco\"]"
   ]
  },
  {
   "cell_type": "code",
   "execution_count": null,
   "metadata": {},
   "outputs": [],
   "source": [
    "pi = [3, 1, 4, 1, 5, 9]"
   ]
  },
  {
   "cell_type": "code",
   "execution_count": 41,
   "metadata": {},
   "outputs": [
    {
     "name": "stdout",
     "output_type": "stream",
     "text": [
      "the type of 1.0 is Float64\n",
      "the type of \"hell of a mess\" is String\n",
      "the type of 4 is Int64\n",
      "the type of 'u' is Char\n"
     ]
    }
   ],
   "source": [
    "println(\"the type of 1.0 is \", typeof(1.0))\n",
    "println(\"the type of \\\"hell of a mess\\\" is \", typeof(\"hell of a mess\"))\n",
    "println(\"the type of 4 is \", typeof(4))\n",
    "println(\"the type of \\'u\\' is \", typeof('u'))"
   ]
  },
  {
   "cell_type": "code",
   "execution_count": 42,
   "metadata": {},
   "outputs": [
    {
     "data": {
      "text/plain": [
       "4-element Vector{Any}:\n",
       " 1.0\n",
       "  \"hell of a mess\"\n",
       " 4\n",
       "  'u': ASCII/Unicode U+0075 (category Ll: Letter, lowercase)"
      ]
     },
     "execution_count": 42,
     "metadata": {},
     "output_type": "execute_result"
    }
   ],
   "source": [
    "user_input_is = [1.0, \"hell of a mess\", 4, 'u']"
   ]
  }
 ],
 "metadata": {
  "kernelspec": {
   "display_name": "Julia 1.6.0",
   "language": "julia",
   "name": "julia-1.6"
  },
  "language_info": {
   "file_extension": ".jl",
   "mimetype": "application/julia",
   "name": "julia",
   "version": "1.6.0"
  }
 },
 "nbformat": 4,
 "nbformat_minor": 4
}
