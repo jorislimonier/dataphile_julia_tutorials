{
 "cells": [
  {
   "cell_type": "markdown",
   "metadata": {},
   "source": [
    "# First steps\n",
    "\n",
    "We will cover the following:\n",
    "- Printing\n",
    "- Declaring variables\n",
    "- Commenting\n",
    "- Basic math"
   ]
  },
  {
   "cell_type": "markdown",
   "metadata": {},
   "source": [
    "## Printing\n",
    "The most common way to print is with `println`, but `print` also works.\n",
    "\n",
    "#### What is the difference ?\n",
    "- `println` prints the argument you pass it and then goes to the next line.\n",
    "- `print` prints the argument you pass it.\n",
    "\n",
    "See the following examples."
   ]
  },
  {
   "cell_type": "code",
   "execution_count": 14,
   "metadata": {},
   "outputs": [
    {
     "name": "stdout",
     "output_type": "stream",
     "text": [
      "println prints here\n",
      "and then automatically goes to a new line\n",
      "as would \\n"
     ]
    }
   ],
   "source": [
    "println(\"println prints here\")\n",
    "println(\"and then automatically goes to a new line\")\n",
    "print(\"as would \\\\n\")"
   ]
  },
  {
   "cell_type": "code",
   "execution_count": 19,
   "metadata": {},
   "outputs": [
    {
     "name": "stdout",
     "output_type": "stream",
     "text": [
      "print does not...go to a new line...or add spaces between lines"
     ]
    }
   ],
   "source": [
    "print(\"print does not...\")\n",
    "print(\"go to a new line...\")\n",
    "print(\"or add spaces between lines\")"
   ]
  },
  {
   "cell_type": "markdown",
   "metadata": {},
   "source": [
    "## Declaring variables\n",
    "\n",
    "The syntax of many languages looks like `var x: Int = 42`.\\\n",
    "Julia makes our life easy and doesn't require to explicitly declare the type of variables. It uses what is called as **duck-typing**, that is:\n",
    "\n",
    "> If it looks like a duck, swims like a duck, and quacks like a duck, then it probably is a duck.\n",
    "\n",
    "<img src=\"https://upload.wikimedia.org/wikipedia/commons/thumb/a/a1/Mallard2.jpg/1280px-Mallard2.jpg\" alt=\"a duck\" width=\"200\"/>\n",
    "\n",
    "This means that Julia chooses whatever type your variable seems to be."
   ]
  },
  {
   "cell_type": "code",
   "execution_count": 20,
   "metadata": {},
   "outputs": [
    {
     "data": {
      "text/plain": [
       "String"
      ]
     },
     "execution_count": 20,
     "metadata": {},
     "output_type": "execute_result"
    }
   ],
   "source": [
    "my_string = \"a string\"\n",
    "typeof(my_string)"
   ]
  },
  {
   "cell_type": "code",
   "execution_count": 21,
   "metadata": {},
   "outputs": [
    {
     "data": {
      "text/plain": [
       "Int64"
      ]
     },
     "execution_count": 21,
     "metadata": {},
     "output_type": "execute_result"
    }
   ],
   "source": [
    "my_int = 42\n",
    "typeof(my_int)"
   ]
  },
  {
   "cell_type": "markdown",
   "metadata": {},
   "source": [
    "#### Beware!\n",
    "\n",
    "Unlike in python, the use of `\" \"` and `' '` are not equivalent. See the following"
   ]
  },
  {
   "cell_type": "code",
   "execution_count": 27,
   "metadata": {},
   "outputs": [
    {
     "data": {
      "text/plain": [
       "String"
      ]
     },
     "execution_count": 27,
     "metadata": {},
     "output_type": "execute_result"
    }
   ],
   "source": [
    "x_string = \"x\"\n",
    "typeof(x_string) # \"x\" is a String"
   ]
  },
  {
   "cell_type": "code",
   "execution_count": 28,
   "metadata": {},
   "outputs": [
    {
     "data": {
      "text/plain": [
       "Char"
      ]
     },
     "execution_count": 28,
     "metadata": {},
     "output_type": "execute_result"
    }
   ],
   "source": [
    "x_char = 'x'\n",
    "typeof(x_char) # 'x' is a Char"
   ]
  },
  {
   "cell_type": "markdown",
   "metadata": {},
   "source": [
    "#### String, Char...who cares anyway ?\n",
    "\n",
    "Well...you should.\\\n",
    "\n",
    "> **Strings allow for multiple characters, Char don't.**\n",
    "\n",
    "See the following example."
   ]
  },
  {
   "cell_type": "code",
   "execution_count": null,
   "metadata": {},
   "outputs": [],
   "source": []
  }
 ],
 "metadata": {
  "kernelspec": {
   "display_name": "Julia 1.5.3",
   "language": "julia",
   "name": "julia-1.5"
  },
  "language_info": {
   "file_extension": ".jl",
   "mimetype": "application/julia",
   "name": "julia",
   "version": "1.5.3"
  }
 },
 "nbformat": 4,
 "nbformat_minor": 4
}
