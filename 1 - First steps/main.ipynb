{
 "cells": [
  {
   "cell_type": "markdown",
   "metadata": {},
   "source": [
    "# First steps\n",
    "\n",
    "We will cover the following:\n",
    "- Printing\n",
    "- Declaring variables\n",
    "- Commenting\n",
    "- Basic math"
   ]
  },
  {
   "cell_type": "markdown",
   "metadata": {},
   "source": [
    "## Printing\n",
    "The most common way to print is with `println`, but `print` also works.\n",
    "\n",
    "#### What is the difference ?\n",
    "- `println` prints the argument you pass it and then goes to the next line.\n",
    "- `print` prints the argument you pass it.\n",
    "\n",
    "See the following examples."
   ]
  },
  {
   "cell_type": "code",
   "execution_count": 14,
   "metadata": {},
   "outputs": [
    {
     "name": "stdout",
     "output_type": "stream",
     "text": [
      "println prints here\n",
      "and then automatically goes to a new line\n",
      "as would \\n"
     ]
    }
   ],
   "source": [
    "println(\"println prints here\")\n",
    "println(\"and then automatically goes to a new line\")\n",
    "print(\"as would \\\\n\")"
   ]
  },
  {
   "cell_type": "code",
   "execution_count": 19,
   "metadata": {},
   "outputs": [
    {
     "name": "stdout",
     "output_type": "stream",
     "text": [
      "print does not...go to a new line...or add spaces between lines"
     ]
    }
   ],
   "source": [
    "print(\"print does not...\")\n",
    "print(\"go to a new line...\")\n",
    "print(\"or add spaces between lines\")"
   ]
  },
  {
   "cell_type": "markdown",
   "metadata": {},
   "source": [
    "## Declaring variables\n",
    "\n",
    "The syntax of many languages looks like `var x: Int = 42`.\\\n",
    "Julia makes our life easy and doesn't require to explicitly declare the type of variables. It uses what is called as **duck-typing**, that is:\n",
    "\n",
    "> If it looks like a duck, swims like a duck, and quacks like a duck, then it probably is a duck.\n",
    "\n",
    "<img src=\"https://upload.wikimedia.org/wikipedia/commons/thumb/a/a1/Mallard2.jpg/1280px-Mallard2.jpg\" alt=\"a duck\" width=\"200\"/>\n",
    "\n",
    "This means that Julia chooses whatever type your variable seems to be."
   ]
  },
  {
   "cell_type": "code",
   "execution_count": 20,
   "metadata": {},
   "outputs": [
    {
     "data": {
      "text/plain": [
       "String"
      ]
     },
     "execution_count": 20,
     "metadata": {},
     "output_type": "execute_result"
    }
   ],
   "source": [
    "my_string = \"a string\"\n",
    "typeof(my_string)"
   ]
  },
  {
   "cell_type": "code",
   "execution_count": 21,
   "metadata": {},
   "outputs": [
    {
     "data": {
      "text/plain": [
       "Int64"
      ]
     },
     "execution_count": 21,
     "metadata": {},
     "output_type": "execute_result"
    }
   ],
   "source": [
    "my_int = 42\n",
    "typeof(my_int)"
   ]
  },
  {
   "cell_type": "markdown",
   "metadata": {},
   "source": [
    "### Beware!\n",
    "\n",
    "Different types may look similar but may actually not be. We will see two such cases.\n",
    "\n",
    "#### Beware (number 1)\n",
    "\n",
    "`Int64` and `Float64` differ by very little as we will show here."
   ]
  },
  {
   "cell_type": "code",
   "execution_count": 44,
   "metadata": {},
   "outputs": [
    {
     "data": {
      "text/plain": [
       "Int64"
      ]
     },
     "execution_count": 44,
     "metadata": {},
     "output_type": "execute_result"
    }
   ],
   "source": [
    "typeof(42)"
   ]
  },
  {
   "cell_type": "code",
   "execution_count": 45,
   "metadata": {},
   "outputs": [
    {
     "data": {
      "text/plain": [
       "Float64"
      ]
     },
     "execution_count": 45,
     "metadata": {},
     "output_type": "execute_result"
    }
   ],
   "source": [
    "typeof(42.0)"
   ]
  },
  {
   "cell_type": "markdown",
   "metadata": {},
   "source": [
    "We see that `42` is an `Int64`, whereas `42.0` is a `Float64`. The extra \"dot zero\" changes everything. Julia may fix the problem under the hood in some cases but it is considered bad practice to mix types in operations as it may cause errors.\n",
    "\n",
    "#### Beware (number 2)\n",
    "\n",
    "Unlike in python, the uses of `\" \"` and `' '` are not equivalent. See the following"
   ]
  },
  {
   "cell_type": "code",
   "execution_count": 27,
   "metadata": {},
   "outputs": [
    {
     "data": {
      "text/plain": [
       "String"
      ]
     },
     "execution_count": 27,
     "metadata": {},
     "output_type": "execute_result"
    }
   ],
   "source": [
    "x_string = \"x\"\n",
    "typeof(x_string) # \"x\" is a String"
   ]
  },
  {
   "cell_type": "code",
   "execution_count": 28,
   "metadata": {},
   "outputs": [
    {
     "data": {
      "text/plain": [
       "Char"
      ]
     },
     "execution_count": 28,
     "metadata": {},
     "output_type": "execute_result"
    }
   ],
   "source": [
    "x_char = 'x'\n",
    "typeof(x_char) # 'x' is a Char"
   ]
  },
  {
   "cell_type": "markdown",
   "metadata": {},
   "source": [
    "#### String, Char...who cares anyway ?\n",
    "\n",
    "Well...you should.\n",
    "\n",
    "> **`String` allow for multiple characters, `Char` doesn't.**\n",
    "\n",
    "See the following example."
   ]
  },
  {
   "cell_type": "code",
   "execution_count": 32,
   "metadata": {},
   "outputs": [
    {
     "ename": "LoadError",
     "evalue": "syntax: character literal contains multiple characters",
     "output_type": "error",
     "traceback": [
      "syntax: character literal contains multiple characters",
      "",
      "Stacktrace:",
      " [1] top-level scope at In[32]:1",
      " [2] include_string(::Function, ::Module, ::String, ::String) at ./loading.jl:1091"
     ]
    }
   ],
   "source": [
    "multiple_char = 'wuups' # 'wuups' gives an error as it is a Char"
   ]
  }
 ],
 "metadata": {
  "kernelspec": {
   "display_name": "Julia 1.5.3",
   "language": "julia",
   "name": "julia-1.5"
  },
  "language_info": {
   "file_extension": ".jl",
   "mimetype": "application/julia",
   "name": "julia",
   "version": "1.5.3"
  }
 },
 "nbformat": 4,
 "nbformat_minor": 4
}
