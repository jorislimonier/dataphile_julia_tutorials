{
 "cells": [
  {
   "cell_type": "markdown",
   "metadata": {},
   "source": [
    "# First steps\n",
    "\n",
    "We will cover the following:\n",
    "- Printing\n",
    "- Declaring variables\n",
    "- Commenting\n",
    "- Basic math"
   ]
  },
  {
   "cell_type": "markdown",
   "metadata": {},
   "source": [
    "## Printing\n",
    "The most common way to print is with `println`, but `print` also works.\n",
    "\n",
    "### What is the difference ?\n",
    "- `println` prints the argument you pass it and then goes to the next line.\n",
    "- `print` prints the argument you pass it.\n",
    "\n",
    "See the following examples."
   ]
  },
  {
   "cell_type": "code",
   "execution_count": 8,
   "metadata": {},
   "outputs": [
    {
     "name": "stdout",
     "output_type": "stream",
     "text": [
      "println is the most common way to print\n",
      "but print also works\n",
      "yes\n"
     ]
    }
   ],
   "source": [
    "println(\"println is the most common way to print\")\n",
    "println(\"but print also works\")\n",
    "println(\"yes\")"
   ]
  },
  {
   "cell_type": "code",
   "execution_count": 3,
   "metadata": {},
   "outputs": [
    {
     "name": "stdout",
     "output_type": "stream",
     "text": [
      "but print also works"
     ]
    }
   ],
   "source": []
  }
 ],
 "metadata": {
  "kernelspec": {
   "display_name": "Julia 1.5.3",
   "language": "julia",
   "name": "julia-1.5"
  },
  "language_info": {
   "file_extension": ".jl",
   "mimetype": "application/julia",
   "name": "julia",
   "version": "1.5.3"
  }
 },
 "nbformat": 4,
 "nbformat_minor": 4
}
